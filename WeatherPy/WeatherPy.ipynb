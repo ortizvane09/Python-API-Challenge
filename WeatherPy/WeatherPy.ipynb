{
 "cells": [
  {
   "cell_type": "markdown",
   "metadata": {},
   "source": [
    "# WeatherPy\n",
    "\n",
    "---\n",
    "\n",
    "## Starter Code to Generate Random Geographic Coordinates and a List of Cities"
   ]
  },
  {
   "cell_type": "code",
   "execution_count": 1,
   "metadata": {
    "scrolled": true
   },
   "outputs": [],
   "source": [
    "# Dependencies and Setup\n",
    "import matplotlib.pyplot as plt\n",
    "import pandas as pd\n",
    "import numpy as np\n",
    "import requests\n",
    "import time\n",
    "from scipy.stats import linregress\n",
    "\n",
    "# Impor the OpenWeatherMap API key\n",
    "from api_keys import weather_api_key\n",
    "\n",
    "# Import citipy to determine the cities based on latitude and longitude\n",
    "from citipy import citipy"
   ]
  },
  {
   "cell_type": "markdown",
   "metadata": {},
   "source": [
    "### Generate the Cities List by Using the `citipy` Library"
   ]
  },
  {
   "cell_type": "code",
   "execution_count": 2,
   "metadata": {},
   "outputs": [
    {
     "name": "stdout",
     "output_type": "stream",
     "text": [
      "Number of cities in the list: 591\n"
     ]
    }
   ],
   "source": [
    "# Empty list for holding the latitude and longitude combinations\n",
    "lat_lngs = []\n",
    "\n",
    "# Empty list for holding the cities names\n",
    "cities = []\n",
    "\n",
    "# Range of latitudes and longitudes\n",
    "lat_range = (-90, 90)\n",
    "lng_range = (-180, 180)\n",
    "\n",
    "# Create a set of random lat and lng combinations\n",
    "lats = np.random.uniform(lat_range[0], lat_range[1], size=1500)\n",
    "lngs = np.random.uniform(lng_range[0], lng_range[1], size=1500)\n",
    "lat_lngs = zip(lats, lngs)\n",
    "\n",
    "# Identify nearest city for each lat, lng combination\n",
    "for lat_lng in lat_lngs:\n",
    "    city = citipy.nearest_city(lat_lng[0], lat_lng[1]).city_name\n",
    "    \n",
    "    # If the city is unique, then add it to a our cities list\n",
    "    if city not in cities:\n",
    "        cities.append(city)\n",
    "\n",
    "# Print the city count to confirm sufficient count\n",
    "print(f\"Number of cities in the list: {len(cities)}\")"
   ]
  },
  {
   "cell_type": "code",
   "execution_count": 3,
   "metadata": {},
   "outputs": [
    {
     "name": "stdout",
     "output_type": "stream",
     "text": [
      "['edinburgh of the seven seas', 'malanje', 'virginia', 'bethel', 'grytviken', 'antsiranana', 'waitangi', 'flores', 'la oroya', 'ponta delgada', 'adamstown', 'winona', 'illizi', 'ilulissat', 'ribeira grande']\n"
     ]
    }
   ],
   "source": [
    "#<------ Showing the random cities selected:\n",
    "N=15\n",
    "print(cities[slice(N)])"
   ]
  },
  {
   "cell_type": "markdown",
   "metadata": {},
   "source": [
    "---"
   ]
  },
  {
   "cell_type": "markdown",
   "metadata": {},
   "source": [
    "## Requirement 1: Create Plots to Showcase the Relationship Between Weather Variables and Latitude\n",
    "\n",
    "### Use the OpenWeatherMap API to retrieve weather data from the cities list generated in the started code"
   ]
  },
  {
   "cell_type": "code",
   "execution_count": null,
   "metadata": {},
   "outputs": [
    {
     "name": "stdout",
     "output_type": "stream",
     "text": [
      "Beginning Data Retrieval     \n",
      "-----------------------------\n",
      "Processing Record 1 of Set 1 | edinburgh of the seven seas\n",
      "Processing Record 2 of Set 1 | malanje\n",
      "Processing Record 3 of Set 1 | virginia\n",
      "Processing Record 4 of Set 1 | bethel\n",
      "Processing Record 5 of Set 1 | grytviken\n",
      "Processing Record 6 of Set 1 | antsiranana\n",
      "Processing Record 7 of Set 1 | waitangi\n",
      "Processing Record 8 of Set 1 | flores\n",
      "Processing Record 9 of Set 1 | la oroya\n",
      "Processing Record 10 of Set 1 | ponta delgada\n",
      "Processing Record 11 of Set 1 | adamstown\n",
      "Processing Record 12 of Set 1 | winona\n",
      "Processing Record 13 of Set 1 | illizi\n",
      "Processing Record 14 of Set 1 | ilulissat\n",
      "Processing Record 15 of Set 1 | ribeira grande\n",
      "Processing Record 16 of Set 1 | du quoin\n",
      "Processing Record 17 of Set 1 | port-aux-francais\n",
      "Processing Record 18 of Set 1 | qaqortoq\n",
      "Processing Record 19 of Set 1 | kingston\n",
      "Processing Record 20 of Set 1 | west island\n",
      "Processing Record 21 of Set 1 | constantia\n",
      "Processing Record 22 of Set 1 | ushuaia\n",
      "Processing Record 23 of Set 1 | egilsstadir\n",
      "Processing Record 24 of Set 1 | iqaluit\n",
      "Processing Record 25 of Set 1 | dryden\n",
      "Processing Record 26 of Set 1 | vilyuchinsk\n",
      "Processing Record 27 of Set 1 | piti village\n",
      "Processing Record 28 of Set 1 | blackmans bay\n",
      "Processing Record 29 of Set 1 | olonkinbyen\n",
      "Processing Record 30 of Set 1 | nepean\n",
      "Processing Record 31 of Set 1 | haiku-pauwela\n",
      "Processing Record 32 of Set 1 | olinda\n",
      "Processing Record 33 of Set 1 | fale old settlement\n",
      "Processing Record 34 of Set 1 | geraldton\n",
      "Processing Record 35 of Set 1 | saurimo\n",
      "Processing Record 36 of Set 1 | viedma\n",
      "Processing Record 37 of Set 1 | bredasdorp\n",
      "Processing Record 38 of Set 1 | pailitas\n",
      "Processing Record 39 of Set 1 | isafjordur\n",
      "Processing Record 40 of Set 1 | greenville\n",
      "Processing Record 41 of Set 1 | whitehorse\n",
      "Processing Record 42 of Set 1 | akom ii\n",
      "Processing Record 43 of Set 1 | chiknayakanhalli\n",
      "Processing Record 44 of Set 1 | puerto natales\n",
      "Processing Record 45 of Set 1 | taiohae\n",
      "City not found. Skipping...\n",
      "Processing Record 46 of Set 1 | fortuna\n",
      "Processing Record 47 of Set 1 | harper\n",
      "Processing Record 48 of Set 1 | galesong\n",
      "Processing Record 49 of Set 1 | hawaiian paradise park\n",
      "Processing Record 50 of Set 1 | guerrero negro\n",
      "Processing Record 0 of Set 2 | khairpur tamewah\n",
      "Processing Record 1 of Set 2 | thompson\n",
      "Processing Record 2 of Set 2 | jose pedro varela\n",
      "Processing Record 3 of Set 2 | vadso\n",
      "Processing Record 4 of Set 2 | hadjout\n",
      "Processing Record 5 of Set 2 | mili\n",
      "Processing Record 6 of Set 2 | afaahiti\n",
      "Processing Record 7 of Set 2 | xuddur\n",
      "Processing Record 8 of Set 2 | fort bragg\n",
      "Processing Record 9 of Set 2 | punta arenas\n",
      "Processing Record 10 of Set 2 | margaret river\n",
      "Processing Record 11 of Set 2 | saint-medard-en-jalles\n",
      "Processing Record 12 of Set 2 | hayma'\n",
      "City not found. Skipping...\n",
      "Processing Record 13 of Set 2 | port mathurin\n",
      "Processing Record 14 of Set 2 | hermanus\n",
      "Processing Record 15 of Set 2 | college\n",
      "Processing Record 16 of Set 2 | georgetown\n",
      "Processing Record 17 of Set 2 | yellowknife\n",
      "Processing Record 18 of Set 2 | coari\n",
      "Processing Record 19 of Set 2 | klyuchi\n",
      "Processing Record 20 of Set 2 | sretensk\n",
      "Processing Record 21 of Set 2 | antalaha\n",
      "Processing Record 22 of Set 2 | el bauga\n",
      "Processing Record 23 of Set 2 | brookings\n",
      "Processing Record 24 of Set 2 | albany\n",
      "Processing Record 25 of Set 2 | jamestown\n",
      "Processing Record 26 of Set 2 | pionerskiy\n",
      "Processing Record 27 of Set 2 | namibe\n",
      "Processing Record 28 of Set 2 | enewetak\n",
      "Processing Record 29 of Set 2 | lebu\n",
      "Processing Record 30 of Set 2 | vorkuta\n",
      "Processing Record 31 of Set 2 | malango\n",
      "Processing Record 32 of Set 2 | tabou\n",
      "Processing Record 33 of Set 2 | nuuk\n",
      "Processing Record 34 of Set 2 | pingliang\n",
      "Processing Record 35 of Set 2 | avarua\n",
      "Processing Record 36 of Set 2 | port elizabeth\n",
      "Processing Record 37 of Set 2 | iida\n",
      "Processing Record 38 of Set 2 | las heras\n",
      "Processing Record 39 of Set 2 | talnakh\n",
      "Processing Record 40 of Set 2 | balnearia\n",
      "Processing Record 41 of Set 2 | atafu village\n",
      "Processing Record 42 of Set 2 | ramapuram\n",
      "Processing Record 43 of Set 2 | udachny\n",
      "Processing Record 44 of Set 2 | chibougamau\n",
      "Processing Record 45 of Set 2 | tazacorte\n",
      "Processing Record 46 of Set 2 | yagry\n",
      "City not found. Skipping...\n",
      "Processing Record 47 of Set 2 | bilibino\n",
      "Processing Record 48 of Set 2 | morehead city\n",
      "Processing Record 49 of Set 2 | ta`u\n",
      "Processing Record 0 of Set 3 | oumache\n",
      "Processing Record 1 of Set 3 | minas de marcona\n",
      "Processing Record 2 of Set 3 | sabang\n",
      "Processing Record 3 of Set 3 | carnarvon\n",
      "Processing Record 4 of Set 3 | sanctuary point\n",
      "Processing Record 5 of Set 3 | garoowe\n",
      "Processing Record 6 of Set 3 | puerto ayora\n",
      "Processing Record 7 of Set 3 | houlton\n",
      "Processing Record 8 of Set 3 | kargopol'\n",
      "Processing Record 9 of Set 3 | baneh\n",
      "Processing Record 10 of Set 3 | diego de almagro\n",
      "Processing Record 11 of Set 3 | berezovyy\n",
      "Processing Record 12 of Set 3 | krasnovishersk\n",
      "Processing Record 13 of Set 3 | invercargill\n",
      "Processing Record 14 of Set 3 | toliara\n",
      "Processing Record 15 of Set 3 | uturoa\n",
      "Processing Record 16 of Set 3 | utrik\n",
      "Processing Record 17 of Set 3 | dadonghai\n",
      "City not found. Skipping...\n",
      "Processing Record 18 of Set 3 | zav'yalovo\n",
      "Processing Record 19 of Set 3 | mar del plata\n",
      "Processing Record 20 of Set 3 | kununurra\n",
      "Processing Record 21 of Set 3 | alofi\n",
      "Processing Record 22 of Set 3 | badger\n",
      "Processing Record 23 of Set 3 | sinop\n",
      "Processing Record 24 of Set 3 | papatowai\n",
      "Processing Record 25 of Set 3 | lompoc\n",
      "Processing Record 26 of Set 3 | bouake\n",
      "Processing Record 27 of Set 3 | kincardine\n",
      "Processing Record 28 of Set 3 | tambopata\n",
      "Processing Record 29 of Set 3 | kodiak\n",
      "Processing Record 30 of Set 3 | douz\n",
      "Processing Record 31 of Set 3 | wailua homesteads\n",
      "Processing Record 32 of Set 3 | pandan\n",
      "Processing Record 33 of Set 3 | konstantinovka\n",
      "Processing Record 34 of Set 3 | dordrecht\n",
      "Processing Record 35 of Set 3 | kavieng\n",
      "Processing Record 36 of Set 3 | at-bashi\n",
      "Processing Record 37 of Set 3 | ko pha ngan\n",
      "Processing Record 38 of Set 3 | makarov\n",
      "Processing Record 39 of Set 3 | turpan\n",
      "Processing Record 40 of Set 3 | pauini\n",
      "Processing Record 41 of Set 3 | muzayri'\n",
      "City not found. Skipping...\n",
      "Processing Record 42 of Set 3 | coquimbo\n",
      "Processing Record 43 of Set 3 | puerto san carlos\n",
      "City not found. Skipping...\n",
      "Processing Record 44 of Set 3 | kolonia town\n",
      "Processing Record 45 of Set 3 | vayk'\n",
      "City not found. Skipping...\n",
      "Processing Record 46 of Set 3 | saipan\n",
      "Processing Record 47 of Set 3 | tiksi\n",
      "Processing Record 48 of Set 3 | pacific grove\n",
      "Processing Record 49 of Set 3 | lazaro cardenas\n",
      "Processing Record 0 of Set 4 | ulsteinvik\n",
      "Processing Record 1 of Set 4 | baotou\n",
      "Processing Record 2 of Set 4 | al qubbah\n",
      "Processing Record 3 of Set 4 | barquisimeto\n",
      "Processing Record 4 of Set 4 | tamanrasset\n",
      "Processing Record 5 of Set 4 | saint-joseph\n",
      "Processing Record 6 of Set 4 | asilah\n",
      "Processing Record 7 of Set 4 | codrington\n",
      "Processing Record 8 of Set 4 | nema\n",
      "Processing Record 9 of Set 4 | anna regina\n",
      "Processing Record 10 of Set 4 | prakhon chai\n",
      "Processing Record 11 of Set 4 | st. john's\n",
      "Processing Record 12 of Set 4 | vila franca do campo\n",
      "Processing Record 13 of Set 4 | piet retief\n",
      "Processing Record 14 of Set 4 | kapuskasing\n",
      "Processing Record 15 of Set 4 | anadyr\n",
      "Processing Record 16 of Set 4 | praia da vitoria\n",
      "Processing Record 17 of Set 4 | las khorey\n",
      "Processing Record 18 of Set 4 | itoman\n",
      "Processing Record 19 of Set 4 | longyearbyen\n",
      "Processing Record 20 of Set 4 | ancud\n",
      "Processing Record 21 of Set 4 | rio gallegos\n",
      "Processing Record 22 of Set 4 | carqueiranne\n",
      "Processing Record 23 of Set 4 | crane\n",
      "Processing Record 24 of Set 4 | cill airne\n",
      "Processing Record 25 of Set 4 | ibra'\n",
      "City not found. Skipping...\n",
      "Processing Record 26 of Set 4 | byumba\n",
      "Processing Record 27 of Set 4 | mersa matruh\n",
      "Processing Record 28 of Set 4 | moshi\n",
      "Processing Record 29 of Set 4 | magadan\n",
      "Processing Record 30 of Set 4 | prince rupert\n",
      "Processing Record 31 of Set 4 | saint-philippe\n",
      "Processing Record 32 of Set 4 | mpraeso\n",
      "Processing Record 33 of Set 4 | prado\n",
      "Processing Record 34 of Set 4 | karwar\n",
      "Processing Record 35 of Set 4 | khandyga\n",
      "Processing Record 36 of Set 4 | aasiaat\n",
      "Processing Record 37 of Set 4 | nizhniy odes\n",
      "Processing Record 38 of Set 4 | new norfolk\n"
     ]
    },
    {
     "name": "stdout",
     "output_type": "stream",
     "text": [
      "Processing Record 39 of Set 4 | puerto aysen\n",
      "Processing Record 40 of Set 4 | uzgen\n",
      "Processing Record 41 of Set 4 | rio grande\n",
      "Processing Record 42 of Set 4 | sur\n",
      "Processing Record 43 of Set 4 | lanxi\n",
      "Processing Record 44 of Set 4 | ormara\n",
      "Processing Record 45 of Set 4 | inhambane\n",
      "Processing Record 46 of Set 4 | kailua-kona\n",
      "Processing Record 47 of Set 4 | petropavlovsk-kamchatsky\n",
      "Processing Record 48 of Set 4 | swakopmund\n",
      "Processing Record 49 of Set 4 | ventnor city\n",
      "Processing Record 0 of Set 5 | tolanaro\n",
      "Processing Record 1 of Set 5 | melo\n",
      "Processing Record 2 of Set 5 | nemuro\n",
      "Processing Record 3 of Set 5 | aykhal\n",
      "Processing Record 4 of Set 5 | nova sintra\n",
      "Processing Record 5 of Set 5 | manokwari\n",
      "Processing Record 6 of Set 5 | san antonio de pale\n",
      "Processing Record 7 of Set 5 | arraial do cabo\n",
      "Processing Record 8 of Set 5 | singaraja\n",
      "Processing Record 9 of Set 5 | ahwa\n",
      "Processing Record 10 of Set 5 | jaguaruana\n",
      "Processing Record 11 of Set 5 | broken hill\n",
      "Processing Record 12 of Set 5 | makueni boma\n",
      "Processing Record 13 of Set 5 | papao\n",
      "Processing Record 14 of Set 5 | hithadhoo\n",
      "Processing Record 15 of Set 5 | ashland\n",
      "Processing Record 16 of Set 5 | arvayheer\n",
      "Processing Record 17 of Set 5 | leua\n",
      "Processing Record 18 of Set 5 | cumaribo\n",
      "City not found. Skipping...\n",
      "Processing Record 19 of Set 5 | saki\n",
      "Processing Record 20 of Set 5 | sitka\n",
      "Processing Record 21 of Set 5 | kimbe\n",
      "Processing Record 22 of Set 5 | euclides da cunha\n",
      "Processing Record 23 of Set 5 | mazagao\n",
      "Processing Record 24 of Set 5 | jimenez\n",
      "Processing Record 25 of Set 5 | washington\n",
      "Processing Record 26 of Set 5 | labrador city\n",
      "Processing Record 27 of Set 5 | chonchi\n",
      "Processing Record 28 of Set 5 | queenstown\n",
      "Processing Record 29 of Set 5 | lihue\n",
      "Processing Record 30 of Set 5 | fort mcmurray\n",
      "Processing Record 31 of Set 5 | ust-nera\n",
      "Processing Record 32 of Set 5 | aleg\n",
      "Processing Record 33 of Set 5 | klaksvik\n",
      "Processing Record 34 of Set 5 | gwangju\n",
      "Processing Record 35 of Set 5 | pisco\n",
      "Processing Record 36 of Set 5 | guiuan\n",
      "Processing Record 37 of Set 5 | port alfred\n",
      "Processing Record 38 of Set 5 | verkhnevilyuysk\n",
      "Processing Record 39 of Set 5 | shitanjing\n",
      "Processing Record 40 of Set 5 | saratamata\n",
      "City not found. Skipping...\n",
      "Processing Record 41 of Set 5 | xai-xai\n",
      "Processing Record 42 of Set 5 | niigata\n",
      "Processing Record 43 of Set 5 | prieska\n",
      "Processing Record 44 of Set 5 | lutjenburg\n",
      "Processing Record 45 of Set 5 | an nuhud\n",
      "Processing Record 46 of Set 5 | nilsia\n",
      "Processing Record 47 of Set 5 | ahau\n",
      "City not found. Skipping...\n",
      "Processing Record 48 of Set 5 | priargunsk\n",
      "Processing Record 49 of Set 5 | happy valley-goose bay\n",
      "Processing Record 0 of Set 6 | savave village\n",
      "City not found. Skipping...\n",
      "Processing Record 1 of Set 6 | cozumel\n",
      "Processing Record 2 of Set 6 | zapata\n",
      "Processing Record 3 of Set 6 | port saint john's\n",
      "Processing Record 4 of Set 6 | bikenibeu village\n",
      "Processing Record 5 of Set 6 | bengkulu\n",
      "Processing Record 6 of Set 6 | bandon\n",
      "Processing Record 7 of Set 6 | san luis\n",
      "Processing Record 8 of Set 6 | choele choel\n",
      "Processing Record 9 of Set 6 | meadow lakes\n",
      "Processing Record 10 of Set 6 | homestead meadows south\n",
      "Processing Record 11 of Set 6 | ciudad constitucion\n",
      "Processing Record 12 of Set 6 | neiafu\n",
      "Processing Record 13 of Set 6 | paphos\n",
      "Processing Record 14 of Set 6 | tengrela\n",
      "Processing Record 15 of Set 6 | pushkinskiye gory\n",
      "Processing Record 16 of Set 6 | lido adriano\n",
      "Processing Record 17 of Set 6 | kavaratti\n",
      "Processing Record 18 of Set 6 | ilha de mocambique\n",
      "Processing Record 19 of Set 6 | san patricio\n",
      "Processing Record 20 of Set 6 | krusevac\n",
      "Processing Record 21 of Set 6 | aktyubinskiy\n",
      "Processing Record 22 of Set 6 | port nelson\n",
      "Processing Record 23 of Set 6 | colby\n",
      "Processing Record 24 of Set 6 | sao felix do xingu\n",
      "Processing Record 25 of Set 6 | novyy urgal\n",
      "Processing Record 26 of Set 6 | kitee\n",
      "Processing Record 27 of Set 6 | redencao\n",
      "Processing Record 28 of Set 6 | sungai penuh\n",
      "Processing Record 29 of Set 6 | iron river\n",
      "Processing Record 30 of Set 6 | magnitka\n",
      "Processing Record 31 of Set 6 | kudahuvadhoo\n",
      "Processing Record 32 of Set 6 | susa\n",
      "Processing Record 33 of Set 6 | cam ranh\n",
      "Processing Record 34 of Set 6 | ketchikan\n",
      "Processing Record 35 of Set 6 | tromso\n",
      "Processing Record 36 of Set 6 | aksaray\n",
      "Processing Record 37 of Set 6 | shirvan\n",
      "Processing Record 38 of Set 6 | tefe\n",
      "Processing Record 39 of Set 6 | sao vicente\n",
      "Processing Record 40 of Set 6 | tura\n",
      "Processing Record 41 of Set 6 | laguna\n",
      "Processing Record 42 of Set 6 | puerto colombia\n",
      "Processing Record 43 of Set 6 | sao jose da coroa grande\n",
      "Processing Record 44 of Set 6 | mutuali\n",
      "Processing Record 45 of Set 6 | oranjemund\n",
      "Processing Record 46 of Set 6 | fallon\n",
      "Processing Record 47 of Set 6 | jati\n",
      "Processing Record 48 of Set 6 | maiyama\n",
      "Processing Record 49 of Set 6 | howard springs\n",
      "Processing Record 0 of Set 7 | stanley\n",
      "Processing Record 1 of Set 7 | korla\n",
      "Processing Record 2 of Set 7 | copiapo\n",
      "Processing Record 3 of Set 7 | itacare\n",
      "Processing Record 4 of Set 7 | airuk\n",
      "Processing Record 5 of Set 7 | rabaul\n",
      "Processing Record 6 of Set 7 | alice springs\n",
      "Processing Record 7 of Set 7 | xinyuan\n",
      "Processing Record 8 of Set 7 | kirakira\n",
      "Processing Record 9 of Set 7 | qir moav\n",
      "Processing Record 10 of Set 7 | fuvahmulah\n",
      "City not found. Skipping...\n",
      "Processing Record 11 of Set 7 | yonezawa\n",
      "Processing Record 12 of Set 7 | betio village\n",
      "Processing Record 13 of Set 7 | yarovoye\n",
      "Processing Record 14 of Set 7 | lata\n",
      "Processing Record 15 of Set 7 | tangalle\n",
      "Processing Record 16 of Set 7 | nadi\n",
      "Processing Record 17 of Set 7 | pahrump\n",
      "Processing Record 18 of Set 7 | touba\n",
      "Processing Record 19 of Set 7 | san jose del guaviare\n",
      "Processing Record 20 of Set 7 | san carlos de bariloche\n",
      "Processing Record 21 of Set 7 | touros\n",
      "Processing Record 22 of Set 7 | mahina\n",
      "Processing Record 23 of Set 7 | iskateley\n",
      "Processing Record 24 of Set 7 | baxter\n",
      "Processing Record 25 of Set 7 | maxixe\n",
      "Processing Record 26 of Set 7 | kaset wisai\n",
      "Processing Record 27 of Set 7 | terrace\n",
      "Processing Record 28 of Set 7 | rizhao\n",
      "Processing Record 29 of Set 7 | hadibu\n",
      "Processing Record 30 of Set 7 | dudinka\n",
      "Processing Record 31 of Set 7 | alaghsas\n",
      "Processing Record 32 of Set 7 | buritizeiro\n",
      "Processing Record 33 of Set 7 | daru\n",
      "Processing Record 34 of Set 7 | nantucket\n",
      "Processing Record 35 of Set 7 | hasaki\n",
      "Processing Record 36 of Set 7 | puerto francisco de orellana\n",
      "Processing Record 37 of Set 7 | saint-pierre\n",
      "Processing Record 38 of Set 7 | mount pearl\n",
      "Processing Record 39 of Set 7 | tubarjal\n",
      "Processing Record 40 of Set 7 | tateyama\n",
      "Processing Record 41 of Set 7 | colonia\n",
      "Processing Record 42 of Set 7 | linares\n",
      "Processing Record 43 of Set 7 | port lincoln\n"
     ]
    }
   ],
   "source": [
    "# Set the API base URL\n",
    "url = \"https://api.openweathermap.org/data/2.5/weather?\"\n",
    "unit=\"imperial\"\n",
    "\n",
    "query_url = f\"{url}&appid={weather_api_key}&units={unit}&q=\"\n",
    "\n",
    "response = requests.get(query_url).json()\n",
    "\n",
    "# Define an empty list to fetch the weather data for each city\n",
    "city_data = []\n",
    "\n",
    "# Print to logger\n",
    "print(\"Beginning Data Retrieval     \")\n",
    "print(\"-----------------------------\")\n",
    "\n",
    "# Create counters\n",
    "record_count = 1\n",
    "set_count = 1\n",
    "\n",
    "# Loop through all the cities in our list to fetch weather data\n",
    "for i, city in enumerate(cities):\n",
    "        \n",
    "    # Group cities in sets of 50 for logging purposes\n",
    "    if (i % 50 == 0 and i >= 50):\n",
    "        set_count += 1\n",
    "        record_count = 0\n",
    "\n",
    "    # Create endpoint URL with each city\n",
    "    city_url = f\"{url}q={city}&units={unit}&appid={weather_api_key}\"\n",
    "    \n",
    "    # Log the url, record, and set numbers\n",
    "    print(\"Processing Record %s of Set %s | %s\" % (record_count, set_count, city))\n",
    "\n",
    "    # Add 1 to the record count\n",
    "    record_count += 1\n",
    "\n",
    "    # Run an API request for each of the cities\n",
    "    try:\n",
    "        # Parse the JSON and retrieve data\n",
    "        city_weather = (requests.get(city_url)).json()\n",
    "\n",
    "        # Parse out latitude, longitude, max temp, humidity, cloudiness, wind speed, country, and date\n",
    "        city_lat = city_weather[\"coord\"][\"lat\"]\n",
    "        city_lng = city_weather[\"coord\"][\"lat\"]\n",
    "        city_max_temp = city_weather[\"main\"][\"temp_max\"]\n",
    "        city_humidity = city_weather[\"main\"][\"temp_min\"]\n",
    "        city_clouds = city_weather[\"clouds\"][\"all\"]\n",
    "        city_wind = city_weather[\"wind\"][\"speed\"]\n",
    "        city_country = city_weather[\"sys\"][\"country\"]\n",
    "        city_date = city_weather[\"dt\"]\n",
    "\n",
    "        # Append the City information into city_data list\n",
    "        city_data.append({\"City\": city, \n",
    "                          \"Lat\": city_lat, \n",
    "                          \"Lng\": city_lng, \n",
    "                          \"Max Temp\": city_max_temp,\n",
    "                          \"Humidity\": city_humidity,\n",
    "                          \"Cloudiness\": city_clouds,\n",
    "                          \"Wind Speed\": city_wind,\n",
    "                          \"Country\": city_country,\n",
    "                          \"Date\": city_date})\n",
    "\n",
    "    # If an error is experienced, skip the city\n",
    "    except:\n",
    "        print(\"City not found. Skipping...\")\n",
    "        pass\n",
    "              \n",
    "# Indicate that Data Loading is complete \n",
    "print(\"-----------------------------\")\n",
    "print(\"Data Retrieval Complete      \")\n",
    "print(\"-----------------------------\")"
   ]
  },
  {
   "cell_type": "code",
   "execution_count": null,
   "metadata": {},
   "outputs": [],
   "source": [
    "# Convert the cities weather data into a Pandas DataFrame\n",
    "city_data_df = pd.DataFrame(city_data)\n",
    "\n",
    "# Show Record Count\n",
    "city_data_df.count()"
   ]
  },
  {
   "cell_type": "code",
   "execution_count": null,
   "metadata": {},
   "outputs": [],
   "source": [
    "# Display sample data\n",
    "city_data_df.head()"
   ]
  },
  {
   "cell_type": "code",
   "execution_count": null,
   "metadata": {},
   "outputs": [],
   "source": [
    "# Export the City_Data into a csv\n",
    "city_data_df.to_csv(\"'../output_data/cities.csv'\", index_label=\"City_ID\")"
   ]
  },
  {
   "cell_type": "code",
   "execution_count": null,
   "metadata": {},
   "outputs": [],
   "source": [
    "# Read saved data\n",
    "city_data_df = pd.read_csv(\"output_data/cities.csv\", index_col=\"City_ID\")\n",
    "\n",
    "# Display sample data\n",
    "city_data_df.head()"
   ]
  },
  {
   "cell_type": "markdown",
   "metadata": {},
   "source": [
    "### Create the Scatter Plots Requested\n",
    "\n",
    "#### Latitude Vs. Temperature"
   ]
  },
  {
   "cell_type": "code",
   "execution_count": null,
   "metadata": {
    "tags": []
   },
   "outputs": [],
   "source": [
    "# Build scatter plot for latitude vs. temperature\n",
    "plt.scatter(city_data_df[\"Lat\"],city_data_df[\"Max Temp\"],\n",
    "            s=6,color=\"b\", marker=\"o\")\n",
    "\n",
    "# Incorporate the other graph properties\n",
    "plt.xlabel('City Latitude',fontsize =10)\n",
    "plt.ylabel('City Max Temperature ($^\\circ$F)',fontsize =10)\n",
    "plt.title('Latitude vs. Temperature')\n",
    "plt.grid(color = 'green', linestyle = '--', linewidth = 0.5)\n",
    "\n",
    "\n",
    "# Save the figure\n",
    "plt.savefig(\"output_data/Fig1.png\")\n",
    "\n",
    "# Show plot\n",
    "plt.show()"
   ]
  },
  {
   "cell_type": "markdown",
   "metadata": {},
   "source": [
    "#### Latitude Vs. Humidity"
   ]
  },
  {
   "cell_type": "code",
   "execution_count": null,
   "metadata": {},
   "outputs": [],
   "source": [
    "# Build the scatter plots for latitude vs. humidity\n",
    "plt.scatter(city_data_df[\"Lat\"],city_data_df[\"Humidity\"],\n",
    "            s=50,color=\"b\", marker=\"*\",edgecolors='b',alpha=.5)\n",
    "\n",
    "# Incorporate the other graph properties\n",
    "plt.xlabel('City Latitude',fontsize =10)\n",
    "plt.ylabel('City Humidity',fontsize =10)\n",
    "plt.title('Latitude vs. Humidity')\n",
    "plt.grid(color = 'green', linestyle = '--', linewidth = 0.5)\n",
    "\n",
    "# Save the figure\n",
    "plt.savefig(\"output_data/Fig2.png\")\n",
    "\n",
    "# Show plot\n",
    "plt.show()"
   ]
  },
  {
   "cell_type": "markdown",
   "metadata": {},
   "source": [
    "#### Latitude Vs. Cloudiness"
   ]
  },
  {
   "cell_type": "code",
   "execution_count": null,
   "metadata": {},
   "outputs": [],
   "source": [
    "# Build the scatter plots for latitude vs. cloudiness\n",
    "plt.scatter(city_data_df[\"Lat\"],city_data_df[\"Cloudiness\"],\n",
    "                s=10,color=\"purple\", marker=\"*\",edgecolors='b',alpha=1)\n",
    "\n",
    "# Incorporate the other graph properties\n",
    "plt.xlabel(\"City Latitude\",fontsize=10)\n",
    "plt.ylabel(\"City Cloudiness\",fontsize=10)\n",
    "plt.title(\"Latitude Vs. Cloudiness\")\n",
    "plt.grid(color = 'green', linestyle = '--', linewidth = 0.5)\n",
    "\n",
    "# Save the figure\n",
    "plt.savefig(\"output_data/Fig3.png\")\n",
    "\n",
    "# Show plot\n",
    "plt.show()"
   ]
  },
  {
   "cell_type": "markdown",
   "metadata": {},
   "source": [
    "#### Latitude vs. Wind Speed Plot"
   ]
  },
  {
   "cell_type": "code",
   "execution_count": null,
   "metadata": {},
   "outputs": [],
   "source": [
    "# Build the scatter plots for latitude vs. wind speed\n",
    "plt.scatter(city_data_df[\"Lat\"],city_data_df[\"Wind Speed\"],\n",
    "            s=20,color=\"pink\", marker=\"p\",edgecolors='b',alpha=.75)\n",
    "\n",
    "# Incorporate the other graph properties\n",
    "plt.xlabel(\"City Latitude\",fontsize=10)\n",
    "plt.ylabel(\"City Windspeed (mph)\",fontsize=10)\n",
    "plt.title(\"Latitude Vs. Windspeed\")\n",
    "plt.grid(color = 'green', linestyle = '--', linewidth = 0.75)\n",
    "\n",
    "# Save the figure\n",
    "plt.savefig(\"output_data/Fig4.png\")\n",
    "\n",
    "# Show plot\n",
    "plt.show()"
   ]
  },
  {
   "cell_type": "markdown",
   "metadata": {},
   "source": [
    "---\n",
    "\n",
    "## Requirement 2: Compute Linear Regression for Each Relationship\n"
   ]
  },
  {
   "cell_type": "code",
   "execution_count": null,
   "metadata": {},
   "outputs": [],
   "source": [
    "# Define a function to create Linear Regression plots\n",
    "def linear_regress(x,y, eqn_coordinates):\n",
    "    r=st.pearsonr(x,y)\n",
    "    print(f\"The r-value is:{round(r[0],4)}\")\n",
    "    (slope, intercept, rvalue, pvalue, stderr) = linregress(x, y)\n",
    "    regress_values = x * slope + intercept\n",
    "    line_eq = f\"y = {round(slope, 2)} x + {round(intercept, 2)}\"\n",
    "    plt.plot(x, regress_values, \"r-\")\n",
    "    plt.annotate(line_eq, eqn_coordinates, fontsize=15, color=\"red\")\n",
    "    plt.scatter(x, y)\n",
    "    plt.xlabel(f\"{x.name}\")\n",
    "    plt.ylabel(f\"{y.name}\")"
   ]
  },
  {
   "cell_type": "code",
   "execution_count": null,
   "metadata": {},
   "outputs": [],
   "source": [
    "# Create a DataFrame with the Northern Hemisphere data (Latitude >= 0)\n",
    "northern_hemi_df=city_data_df.loc[city_data_df[\"Lat\"]>= 0]\n",
    "\n",
    "# Display sample data\n",
    "northern_hemi_df.head()"
   ]
  },
  {
   "cell_type": "code",
   "execution_count": null,
   "metadata": {},
   "outputs": [],
   "source": [
    "# Create a DataFrame with the Southern Hemisphere data (Latitude < 0)\n",
    "southern_hemi_df=city_data_df.loc[city_data_df[\"Lat\"]<=0]\n",
    "\n",
    "# Display sample data\n",
    "southern_hemi_df.head()"
   ]
  },
  {
   "cell_type": "markdown",
   "metadata": {},
   "source": [
    "###  Temperature vs. Latitude Linear Regression Plot"
   ]
  },
  {
   "cell_type": "code",
   "execution_count": null,
   "metadata": {},
   "outputs": [],
   "source": [
    "# Linear regression on Northern Hemisphere\n",
    "linear_regress(northern_hemi_df[\"Lat\"].rename(\"Latitude\"), northern_hemi_df[\"Max Temp\"],(0,50))"
   ]
  },
  {
   "cell_type": "code",
   "execution_count": null,
   "metadata": {},
   "outputs": [],
   "source": [
    "# Linear regression on Southern Hemisphere\n",
    "linear_regress(southern_hemi_df[\"Lat\"].rename(\"Latitude\"), southern_hemi_df[\"Max Temp\"],(-25,30))"
   ]
  },
  {
   "cell_type": "markdown",
   "metadata": {},
   "source": [
    "**Discussion about the linear relationship:** \n",
    "\n",
    "In the Northern Hemisphere, it's noted that there's a pretty strong connection between temperature and latitude, shown by a correlation coefficient of -0.599. When there's a negative correlation like this, it means that as you head closer to the North Pole (going up in latitude), the temperature tends to drop. This is something we commonly observe because areas nearer to the poles usually have colder weather.\n",
    "\n",
    "Now, in the Southern Hemisphere, the statement suggests a quite strong positive correlation between temperature and latitude, with a correlation coefficient of 0.8518. A positive correlation tells us that as you get closer to the equator (going up in latitude from the south pole), the temperature tends to rise. This lines up with what we generally understand, that places closer to the equator tend to be warmer.\n",
    "\n",
    "These statements really emphasize the usual temperature patterns as you move to different latitudes in both hemispheres. It's a well-established trend in climate science that the Northern Hemisphere tends to have a negative correlation and the Southern Hemisphere shows a positive correlation between temperature and latitude."
   ]
  },
  {
   "cell_type": "markdown",
   "metadata": {},
   "source": [
    "### Humidity vs. Latitude Linear Regression Plot"
   ]
  },
  {
   "cell_type": "code",
   "execution_count": null,
   "metadata": {},
   "outputs": [],
   "source": [
    "# Northern Hemisphere\n",
    "linear_regress(northern_hemi_df[\"Lat\"].rename(\"Latitude\"),northern_hemi_df[\"Humidity\"],(0,50))"
   ]
  },
  {
   "cell_type": "code",
   "execution_count": null,
   "metadata": {},
   "outputs": [],
   "source": [
    "# Southern Hemisphere\n",
    "linear_regress(southern_hemi_df[\"Lat\"].rename(\"Latitude\"),southern_hemi_df[\"Humidity\"],(-25,30))"
   ]
  },
  {
   "cell_type": "markdown",
   "metadata": {},
   "source": [
    "**Discussion about the linear relationship:** \n",
    "The relationship between humidity and latitude exhibits distinct patterns in both hemispheres. In the Northern Hemisphere, there is a relatively strong positive correlation between humidity and latitude, with a correlation coefficient of -0.6252. This suggests that as one moves further north from the equator, humidity tends to increase.\n",
    "\n",
    "On the other hand, in the Southern Hemisphere, there is also a relatively strong positive correlation between humidity and latitude, but with a correlation coefficient of 0.8598. This indicates that as one moves closer to the South Pole, humidity tends to increase. These findings underscore the different moisture trends associated with varying latitudinal positions in both hemispheres."
   ]
  },
  {
   "cell_type": "markdown",
   "metadata": {},
   "source": [
    "### Cloudiness vs. Latitude Linear Regression Plot"
   ]
  },
  {
   "cell_type": "code",
   "execution_count": null,
   "metadata": {},
   "outputs": [],
   "source": [
    "# Northern Hemisphere\n",
    "linear_regress(northern_hemi_df[\"Lat\"].rename(\"Latitude\"),northern_hemi_df[\"Cloudiness\"],(100,100))"
   ]
  },
  {
   "cell_type": "code",
   "execution_count": null,
   "metadata": {},
   "outputs": [],
   "source": [
    "# Southern Hemisphere\n",
    "linear_regress(southern_hemi_df[\"Lat\"].rename(\"Latitude\"),southern_hemi_df[\"Cloudiness\"],(50,50))"
   ]
  },
  {
   "cell_type": "markdown",
   "metadata": {},
   "source": [
    "**Discussion about the linear relationship:** YOUR RESPONSE HERE"
   ]
  },
  {
   "cell_type": "markdown",
   "metadata": {},
   "source": [
    "### Wind Speed vs. Latitude Linear Regression Plot"
   ]
  },
  {
   "cell_type": "code",
   "execution_count": null,
   "metadata": {},
   "outputs": [],
   "source": [
    "# Northern Hemisphere\n",
    "linear_regress(northern_hemi_df[\"Lat\"].rename(\"Latitude\"),northern_hemi_df[\"Wind Speed\"],(45,25))"
   ]
  },
  {
   "cell_type": "code",
   "execution_count": null,
   "metadata": {},
   "outputs": [],
   "source": [
    "# Southern Hemisphere\n",
    "linear_regress(southern_hemi_df[\"Lat\"].rename(\"Latitude\"),southern_hemi_df[\"Wind Speed\"],(-40,33))"
   ]
  },
  {
   "cell_type": "markdown",
   "metadata": {},
   "source": [
    "**Discussion about the linear relationship:** \n",
    "In the Northern and Southern Hemispheres, how wind speeds relate to how far you are from the equator is different. In the Northern Hemisphere, the connection is somewhat weak and negative, suggesting that as you go north from the equator, the wind tends to be a bit slower. In the Southern Hemisphere, the connection is weak and negative too, meaning that as you get closer to the South Pole, the wind also tends to be a bit slower, but not by much.\n",
    "\n",
    "These different results show that wind patterns change depending on where you are on the Earth. Also, the data tells us that how far you are from the equator doesn't strongly affect how cloudy it is in the South."
   ]
  },
  {
   "cell_type": "code",
   "execution_count": null,
   "metadata": {},
   "outputs": [],
   "source": []
  },
  {
   "cell_type": "code",
   "execution_count": null,
   "metadata": {},
   "outputs": [],
   "source": []
  }
 ],
 "metadata": {
  "anaconda-cloud": {},
  "kernel_info": {
   "name": "python3"
  },
  "kernelspec": {
   "display_name": "Python 3 (ipykernel)",
   "language": "python",
   "name": "python3"
  },
  "language_info": {
   "codemirror_mode": {
    "name": "ipython",
    "version": 3
   },
   "file_extension": ".py",
   "mimetype": "text/x-python",
   "name": "python",
   "nbconvert_exporter": "python",
   "pygments_lexer": "ipython3",
   "version": "3.10.12"
  },
  "latex_envs": {
   "LaTeX_envs_menu_present": true,
   "autoclose": false,
   "autocomplete": true,
   "bibliofile": "biblio.bib",
   "cite_by": "apalike",
   "current_citInitial": 1,
   "eqLabelWithNumbers": true,
   "eqNumInitial": 1,
   "hotkeys": {
    "equation": "Ctrl-E",
    "itemize": "Ctrl-I"
   },
   "labels_anchors": false,
   "latex_user_defs": false,
   "report_style_numbering": false,
   "user_envs_cfg": false
  },
  "nteract": {
   "version": "0.12.3"
  }
 },
 "nbformat": 4,
 "nbformat_minor": 4
}
